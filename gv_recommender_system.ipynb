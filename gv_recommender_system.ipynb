{
 "cells": [
  {
   "cell_type": "code",
   "execution_count": 138,
   "id": "96895024",
   "metadata": {},
   "outputs": [],
   "source": [
    "import pandas as pd\n",
    "import numpy as np\n",
    "import matplotlib.pyplot as plt\n",
    "import os"
   ]
  },
  {
   "cell_type": "code",
   "execution_count": 139,
   "id": "ce9c0ec7",
   "metadata": {},
   "outputs": [],
   "source": [
    "gv = pd.read_csv(\"recommender_system.csv\")\n",
    "pd.set_option(\"display.max_columns\",100)\n",
    "pd.set_option(\"display.max_rows\",100)"
   ]
  },
  {
   "cell_type": "code",
   "execution_count": 140,
   "id": "00f9e1c7",
   "metadata": {},
   "outputs": [
    {
     "data": {
      "text/html": [
       "<div>\n",
       "<style scoped>\n",
       "    .dataframe tbody tr th:only-of-type {\n",
       "        vertical-align: middle;\n",
       "    }\n",
       "\n",
       "    .dataframe tbody tr th {\n",
       "        vertical-align: top;\n",
       "    }\n",
       "\n",
       "    .dataframe thead th {\n",
       "        text-align: right;\n",
       "    }\n",
       "</style>\n",
       "<table border=\"1\" class=\"dataframe\">\n",
       "  <thead>\n",
       "    <tr style=\"text-align: right;\">\n",
       "      <th></th>\n",
       "      <th>gv_tracks_id</th>\n",
       "      <th>title</th>\n",
       "      <th>storage_keys</th>\n",
       "      <th>duration</th>\n",
       "      <th>category_id</th>\n",
       "      <th>play_count</th>\n",
       "      <th>download_count</th>\n",
       "      <th>shared_count</th>\n",
       "      <th>track_code</th>\n",
       "      <th>track_type</th>\n",
       "      <th>subscription_type</th>\n",
       "      <th>publish_status</th>\n",
       "      <th>disabled</th>\n",
       "      <th>push_notification</th>\n",
       "      <th>active</th>\n",
       "      <th>unlisted</th>\n",
       "      <th>show_timer</th>\n",
       "      <th>description</th>\n",
       "      <th>slug</th>\n",
       "      <th>full_text_search</th>\n",
       "      <th>script_writer</th>\n",
       "      <th>narrator</th>\n",
       "      <th>composer</th>\n",
       "      <th>usage</th>\n",
       "      <th>deleted</th>\n",
       "      <th>published_at</th>\n",
       "      <th>created_at</th>\n",
       "      <th>updated_at</th>\n",
       "      <th>total_play_time</th>\n",
       "      <th>total_likes</th>\n",
       "      <th>homepage_boost</th>\n",
       "      <th>deep_link</th>\n",
       "      <th>frequencies</th>\n",
       "      <th>subtitle</th>\n",
       "      <th>gv_categories_id</th>\n",
       "      <th>category_name</th>\n",
       "      <th>parent_id</th>\n",
       "      <th>theme</th>\n",
       "    </tr>\n",
       "  </thead>\n",
       "  <tbody>\n",
       "    <tr>\n",
       "      <th>0</th>\n",
       "      <td>4fd418c8-80fb-4447-b016-791e76e341f7</td>\n",
       "      <td>Heal Any Disease | Physical Mental Spiritual I...</td>\n",
       "      <td>\"https://goodvibesassetsprod.blob.core.windows...</td>\n",
       "      <td>5400.031995</td>\n",
       "      <td>259c0328-95fe-4e08-a8af-3465050ab069</td>\n",
       "      <td>2227</td>\n",
       "      <td>27</td>\n",
       "      <td>0</td>\n",
       "      <td>GV0241</td>\n",
       "      <td>premium</td>\n",
       "      <td>trial</td>\n",
       "      <td>True</td>\n",
       "      <td>False</td>\n",
       "      <td>False</td>\n",
       "      <td>True</td>\n",
       "      <td>False</td>\n",
       "      <td>True</td>\n",
       "      <td>&lt;p&gt;{ALWAYS PLAY THIS MUSIC IN LOW VOLUME BECAU...</td>\n",
       "      <td>heal-any-disease-or-physical-mental-spiritual-...</td>\n",
       "      <td>'9':10,34 'alway':13 'beat':9,42 'binaur':8,41...</td>\n",
       "      <td>NaN</td>\n",
       "      <td>NaN</td>\n",
       "      <td>NaN</td>\n",
       "      <td>normal</td>\n",
       "      <td>False</td>\n",
       "      <td>2020-08-25 18:15:00+05:45</td>\n",
       "      <td>2020-08-26 10:04:36.588+05:45</td>\n",
       "      <td>2024-05-15 03:51:16.615066+05:45</td>\n",
       "      <td>0</td>\n",
       "      <td>96</td>\n",
       "      <td>False</td>\n",
       "      <td>https://goodvibesofficial.page.link/wvb38Dpa6m...</td>\n",
       "      <td>NaN</td>\n",
       "      <td>NaN</td>\n",
       "      <td>259c0328-95fe-4e08-a8af-3465050ab069</td>\n",
       "      <td>Meditation</td>\n",
       "      <td>NaN</td>\n",
       "      <td>{\"dark\": {}, \"type\": \"default\", \"light\": {}}</td>\n",
       "    </tr>\n",
       "    <tr>\n",
       "      <th>1</th>\n",
       "      <td>21fdc932-46c5-4c8c-8941-9ef8c9e25732</td>\n",
       "      <td>Golden Energy Vibration | Manifest Miracles Bi...</td>\n",
       "      <td>\"https://goodvibesassetsprod.blob.core.windows...</td>\n",
       "      <td>1847.719002</td>\n",
       "      <td>53c63d08-dea1-425a-b6d9-ea26e537fee2</td>\n",
       "      <td>613</td>\n",
       "      <td>8</td>\n",
       "      <td>0</td>\n",
       "      <td>GV0301</td>\n",
       "      <td>free</td>\n",
       "      <td>trial</td>\n",
       "      <td>True</td>\n",
       "      <td>False</td>\n",
       "      <td>False</td>\n",
       "      <td>True</td>\n",
       "      <td>False</td>\n",
       "      <td>True</td>\n",
       "      <td>&lt;p&gt;{ALWAYS PLAY THIS MUSIC IN LOW VOLUME BECAU...</td>\n",
       "      <td>golden-energy-vibration-or-manifest-miracles-b...</td>\n",
       "      <td>'abund':8,39 'achiev':57 'alway':12 'attract':...</td>\n",
       "      <td>NaN</td>\n",
       "      <td>NaN</td>\n",
       "      <td>NaN</td>\n",
       "      <td>normal</td>\n",
       "      <td>False</td>\n",
       "      <td>2020-10-01 18:15:00+05:45</td>\n",
       "      <td>2020-10-02 10:25:04.334+05:45</td>\n",
       "      <td>2024-05-08 15:17:12.755124+05:45</td>\n",
       "      <td>0</td>\n",
       "      <td>54</td>\n",
       "      <td>False</td>\n",
       "      <td>NaN</td>\n",
       "      <td>NaN</td>\n",
       "      <td>NaN</td>\n",
       "      <td>53c63d08-dea1-425a-b6d9-ea26e537fee2</td>\n",
       "      <td>Manifestation</td>\n",
       "      <td>NaN</td>\n",
       "      <td>{\"dark\": {}, \"type\": \"default\", \"light\": {}}</td>\n",
       "    </tr>\n",
       "  </tbody>\n",
       "</table>\n",
       "</div>"
      ],
      "text/plain": [
       "                           gv_tracks_id  \\\n",
       "0  4fd418c8-80fb-4447-b016-791e76e341f7   \n",
       "1  21fdc932-46c5-4c8c-8941-9ef8c9e25732   \n",
       "\n",
       "                                               title  \\\n",
       "0  Heal Any Disease | Physical Mental Spiritual I...   \n",
       "1  Golden Energy Vibration | Manifest Miracles Bi...   \n",
       "\n",
       "                                        storage_keys     duration  \\\n",
       "0  \"https://goodvibesassetsprod.blob.core.windows...  5400.031995   \n",
       "1  \"https://goodvibesassetsprod.blob.core.windows...  1847.719002   \n",
       "\n",
       "                            category_id  play_count  download_count  \\\n",
       "0  259c0328-95fe-4e08-a8af-3465050ab069        2227              27   \n",
       "1  53c63d08-dea1-425a-b6d9-ea26e537fee2         613               8   \n",
       "\n",
       "   shared_count track_code track_type subscription_type  publish_status  \\\n",
       "0             0     GV0241    premium             trial            True   \n",
       "1             0    GV0301        free             trial            True   \n",
       "\n",
       "   disabled  push_notification  active  unlisted  show_timer  \\\n",
       "0     False              False    True     False        True   \n",
       "1     False              False    True     False        True   \n",
       "\n",
       "                                         description  \\\n",
       "0  <p>{ALWAYS PLAY THIS MUSIC IN LOW VOLUME BECAU...   \n",
       "1  <p>{ALWAYS PLAY THIS MUSIC IN LOW VOLUME BECAU...   \n",
       "\n",
       "                                                slug  \\\n",
       "0  heal-any-disease-or-physical-mental-spiritual-...   \n",
       "1  golden-energy-vibration-or-manifest-miracles-b...   \n",
       "\n",
       "                                    full_text_search  script_writer  narrator  \\\n",
       "0  '9':10,34 'alway':13 'beat':9,42 'binaur':8,41...            NaN       NaN   \n",
       "1  'abund':8,39 'achiev':57 'alway':12 'attract':...            NaN       NaN   \n",
       "\n",
       "   composer   usage  deleted               published_at  \\\n",
       "0       NaN  normal    False  2020-08-25 18:15:00+05:45   \n",
       "1       NaN  normal    False  2020-10-01 18:15:00+05:45   \n",
       "\n",
       "                      created_at                        updated_at  \\\n",
       "0  2020-08-26 10:04:36.588+05:45  2024-05-15 03:51:16.615066+05:45   \n",
       "1  2020-10-02 10:25:04.334+05:45  2024-05-08 15:17:12.755124+05:45   \n",
       "\n",
       "   total_play_time  total_likes  homepage_boost  \\\n",
       "0                0           96           False   \n",
       "1                0           54           False   \n",
       "\n",
       "                                           deep_link frequencies subtitle  \\\n",
       "0  https://goodvibesofficial.page.link/wvb38Dpa6m...         NaN      NaN   \n",
       "1                                                NaN         NaN      NaN   \n",
       "\n",
       "                       gv_categories_id  category_name  parent_id  \\\n",
       "0  259c0328-95fe-4e08-a8af-3465050ab069     Meditation        NaN   \n",
       "1  53c63d08-dea1-425a-b6d9-ea26e537fee2  Manifestation        NaN   \n",
       "\n",
       "                                          theme  \n",
       "0  {\"dark\": {}, \"type\": \"default\", \"light\": {}}  \n",
       "1  {\"dark\": {}, \"type\": \"default\", \"light\": {}}  "
      ]
     },
     "execution_count": 140,
     "metadata": {},
     "output_type": "execute_result"
    }
   ],
   "source": [
    "gv.head(2)"
   ]
  },
  {
   "cell_type": "code",
   "execution_count": 179,
   "id": "6b4c6015",
   "metadata": {},
   "outputs": [
    {
     "data": {
      "text/plain": [
       "2188"
      ]
     },
     "execution_count": 179,
     "metadata": {},
     "output_type": "execute_result"
    }
   ],
   "source": [
    "gv['title'].nunique()"
   ]
  },
  {
   "cell_type": "code",
   "execution_count": 180,
   "id": "d60cd879",
   "metadata": {},
   "outputs": [
    {
     "data": {
      "text/plain": [
       "(2188, 10)"
      ]
     },
     "execution_count": 180,
     "metadata": {},
     "output_type": "execute_result"
    }
   ],
   "source": [
    "gv.shape"
   ]
  },
  {
   "cell_type": "code",
   "execution_count": 181,
   "id": "08a8f613",
   "metadata": {},
   "outputs": [
    {
     "data": {
      "text/plain": [
       "gv_tracks_id         0\n",
       "title                0\n",
       "storage_keys         0\n",
       "duration             0\n",
       "category_name        0\n",
       "track_code           0\n",
       "track_type           0\n",
       "subscription_type    0\n",
       "slug                 0\n",
       "tags                 0\n",
       "dtype: int64"
      ]
     },
     "execution_count": 181,
     "metadata": {},
     "output_type": "execute_result"
    }
   ],
   "source": [
    "gv.isnull().sum()"
   ]
  },
  {
   "cell_type": "code",
   "execution_count": 182,
   "id": "ca07a299",
   "metadata": {},
   "outputs": [
    {
     "data": {
      "text/html": [
       "<div>\n",
       "<style scoped>\n",
       "    .dataframe tbody tr th:only-of-type {\n",
       "        vertical-align: middle;\n",
       "    }\n",
       "\n",
       "    .dataframe tbody tr th {\n",
       "        vertical-align: top;\n",
       "    }\n",
       "\n",
       "    .dataframe thead th {\n",
       "        text-align: right;\n",
       "    }\n",
       "</style>\n",
       "<table border=\"1\" class=\"dataframe\">\n",
       "  <thead>\n",
       "    <tr style=\"text-align: right;\">\n",
       "      <th></th>\n",
       "      <th>gv_tracks_id</th>\n",
       "      <th>title</th>\n",
       "      <th>storage_keys</th>\n",
       "      <th>duration</th>\n",
       "      <th>category_name</th>\n",
       "      <th>track_code</th>\n",
       "      <th>track_type</th>\n",
       "      <th>subscription_type</th>\n",
       "      <th>slug</th>\n",
       "      <th>tags</th>\n",
       "    </tr>\n",
       "  </thead>\n",
       "  <tbody>\n",
       "    <tr>\n",
       "      <th>0</th>\n",
       "      <td>4fd418c8-80fb-4447-b016-791e76e341f7</td>\n",
       "      <td>Heal Any Disease | Physical Mental Spiritual I...</td>\n",
       "      <td>\"https://goodvibesassetsprod.blob.core.windows...</td>\n",
       "      <td>5400.031995</td>\n",
       "      <td>Meditation</td>\n",
       "      <td>GV0241</td>\n",
       "      <td>premium</td>\n",
       "      <td>trial</td>\n",
       "      <td>heal-any-disease-or-physical-mental-spiritual-...</td>\n",
       "      <td>Meditationpremiumtrialheal-any-disease-or-phys...</td>\n",
       "    </tr>\n",
       "    <tr>\n",
       "      <th>1</th>\n",
       "      <td>21fdc932-46c5-4c8c-8941-9ef8c9e25732</td>\n",
       "      <td>Golden Energy Vibration | Manifest Miracles Bi...</td>\n",
       "      <td>\"https://goodvibesassetsprod.blob.core.windows...</td>\n",
       "      <td>1847.719002</td>\n",
       "      <td>Manifestation</td>\n",
       "      <td>GV0301</td>\n",
       "      <td>free</td>\n",
       "      <td>trial</td>\n",
       "      <td>golden-energy-vibration-or-manifest-miracles-b...</td>\n",
       "      <td>Manifestationfreetrialgolden-energy-vibration-...</td>\n",
       "    </tr>\n",
       "  </tbody>\n",
       "</table>\n",
       "</div>"
      ],
      "text/plain": [
       "                           gv_tracks_id  \\\n",
       "0  4fd418c8-80fb-4447-b016-791e76e341f7   \n",
       "1  21fdc932-46c5-4c8c-8941-9ef8c9e25732   \n",
       "\n",
       "                                               title  \\\n",
       "0  Heal Any Disease | Physical Mental Spiritual I...   \n",
       "1  Golden Energy Vibration | Manifest Miracles Bi...   \n",
       "\n",
       "                                        storage_keys     duration  \\\n",
       "0  \"https://goodvibesassetsprod.blob.core.windows...  5400.031995   \n",
       "1  \"https://goodvibesassetsprod.blob.core.windows...  1847.719002   \n",
       "\n",
       "   category_name track_code track_type subscription_type  \\\n",
       "0     Meditation     GV0241    premium             trial   \n",
       "1  Manifestation    GV0301        free             trial   \n",
       "\n",
       "                                                slug  \\\n",
       "0  heal-any-disease-or-physical-mental-spiritual-...   \n",
       "1  golden-energy-vibration-or-manifest-miracles-b...   \n",
       "\n",
       "                                                tags  \n",
       "0  Meditationpremiumtrialheal-any-disease-or-phys...  \n",
       "1  Manifestationfreetrialgolden-energy-vibration-...  "
      ]
     },
     "execution_count": 182,
     "metadata": {},
     "output_type": "execute_result"
    }
   ],
   "source": [
    "gv.head(2)"
   ]
  },
  {
   "cell_type": "code",
   "execution_count": 183,
   "id": "8b083c10",
   "metadata": {},
   "outputs": [],
   "source": [
    "# keeping only important columns\n",
    "gv = gv[['gv_tracks_id','title','storage_keys','duration','category_name','track_code','track_type','subscription_type','slug',]]"
   ]
  },
  {
   "cell_type": "code",
   "execution_count": 184,
   "id": "12e2b2a2",
   "metadata": {},
   "outputs": [
    {
     "data": {
      "text/html": [
       "<div>\n",
       "<style scoped>\n",
       "    .dataframe tbody tr th:only-of-type {\n",
       "        vertical-align: middle;\n",
       "    }\n",
       "\n",
       "    .dataframe tbody tr th {\n",
       "        vertical-align: top;\n",
       "    }\n",
       "\n",
       "    .dataframe thead th {\n",
       "        text-align: right;\n",
       "    }\n",
       "</style>\n",
       "<table border=\"1\" class=\"dataframe\">\n",
       "  <thead>\n",
       "    <tr style=\"text-align: right;\">\n",
       "      <th></th>\n",
       "      <th>gv_tracks_id</th>\n",
       "      <th>title</th>\n",
       "      <th>storage_keys</th>\n",
       "      <th>duration</th>\n",
       "      <th>category_name</th>\n",
       "      <th>track_code</th>\n",
       "      <th>track_type</th>\n",
       "      <th>subscription_type</th>\n",
       "      <th>slug</th>\n",
       "    </tr>\n",
       "  </thead>\n",
       "  <tbody>\n",
       "    <tr>\n",
       "      <th>0</th>\n",
       "      <td>4fd418c8-80fb-4447-b016-791e76e341f7</td>\n",
       "      <td>Heal Any Disease | Physical Mental Spiritual I...</td>\n",
       "      <td>\"https://goodvibesassetsprod.blob.core.windows...</td>\n",
       "      <td>5400.031995</td>\n",
       "      <td>Meditation</td>\n",
       "      <td>GV0241</td>\n",
       "      <td>premium</td>\n",
       "      <td>trial</td>\n",
       "      <td>heal-any-disease-or-physical-mental-spiritual-...</td>\n",
       "    </tr>\n",
       "    <tr>\n",
       "      <th>1</th>\n",
       "      <td>21fdc932-46c5-4c8c-8941-9ef8c9e25732</td>\n",
       "      <td>Golden Energy Vibration | Manifest Miracles Bi...</td>\n",
       "      <td>\"https://goodvibesassetsprod.blob.core.windows...</td>\n",
       "      <td>1847.719002</td>\n",
       "      <td>Manifestation</td>\n",
       "      <td>GV0301</td>\n",
       "      <td>free</td>\n",
       "      <td>trial</td>\n",
       "      <td>golden-energy-vibration-or-manifest-miracles-b...</td>\n",
       "    </tr>\n",
       "  </tbody>\n",
       "</table>\n",
       "</div>"
      ],
      "text/plain": [
       "                           gv_tracks_id  \\\n",
       "0  4fd418c8-80fb-4447-b016-791e76e341f7   \n",
       "1  21fdc932-46c5-4c8c-8941-9ef8c9e25732   \n",
       "\n",
       "                                               title  \\\n",
       "0  Heal Any Disease | Physical Mental Spiritual I...   \n",
       "1  Golden Energy Vibration | Manifest Miracles Bi...   \n",
       "\n",
       "                                        storage_keys     duration  \\\n",
       "0  \"https://goodvibesassetsprod.blob.core.windows...  5400.031995   \n",
       "1  \"https://goodvibesassetsprod.blob.core.windows...  1847.719002   \n",
       "\n",
       "   category_name track_code track_type subscription_type  \\\n",
       "0     Meditation     GV0241    premium             trial   \n",
       "1  Manifestation    GV0301        free             trial   \n",
       "\n",
       "                                                slug  \n",
       "0  heal-any-disease-or-physical-mental-spiritual-...  \n",
       "1  golden-energy-vibration-or-manifest-miracles-b...  "
      ]
     },
     "execution_count": 184,
     "metadata": {},
     "output_type": "execute_result"
    }
   ],
   "source": [
    "gv.head(2)"
   ]
  },
  {
   "cell_type": "code",
   "execution_count": 185,
   "id": "d3aee5d2",
   "metadata": {},
   "outputs": [],
   "source": [
    "gv.dropna(inplace=True)"
   ]
  },
  {
   "cell_type": "code",
   "execution_count": 186,
   "id": "3747eeff",
   "metadata": {},
   "outputs": [
    {
     "data": {
      "text/plain": [
       "gv_tracks_id         0\n",
       "title                0\n",
       "storage_keys         0\n",
       "duration             0\n",
       "category_name        0\n",
       "track_code           0\n",
       "track_type           0\n",
       "subscription_type    0\n",
       "slug                 0\n",
       "dtype: int64"
      ]
     },
     "execution_count": 186,
     "metadata": {},
     "output_type": "execute_result"
    }
   ],
   "source": [
    "gv.isnull().sum()"
   ]
  },
  {
   "cell_type": "code",
   "execution_count": 187,
   "id": "e20922f6",
   "metadata": {},
   "outputs": [
    {
     "data": {
      "text/plain": [
       "False"
      ]
     },
     "execution_count": 187,
     "metadata": {},
     "output_type": "execute_result"
    }
   ],
   "source": [
    "gv.duplicated().any()"
   ]
  },
  {
   "cell_type": "code",
   "execution_count": 188,
   "id": "d3af2d6a",
   "metadata": {},
   "outputs": [
    {
     "data": {
      "text/html": [
       "<div>\n",
       "<style scoped>\n",
       "    .dataframe tbody tr th:only-of-type {\n",
       "        vertical-align: middle;\n",
       "    }\n",
       "\n",
       "    .dataframe tbody tr th {\n",
       "        vertical-align: top;\n",
       "    }\n",
       "\n",
       "    .dataframe thead th {\n",
       "        text-align: right;\n",
       "    }\n",
       "</style>\n",
       "<table border=\"1\" class=\"dataframe\">\n",
       "  <thead>\n",
       "    <tr style=\"text-align: right;\">\n",
       "      <th></th>\n",
       "      <th>gv_tracks_id</th>\n",
       "      <th>title</th>\n",
       "      <th>storage_keys</th>\n",
       "      <th>duration</th>\n",
       "      <th>category_name</th>\n",
       "      <th>track_code</th>\n",
       "      <th>track_type</th>\n",
       "      <th>subscription_type</th>\n",
       "      <th>slug</th>\n",
       "    </tr>\n",
       "  </thead>\n",
       "  <tbody>\n",
       "    <tr>\n",
       "      <th>0</th>\n",
       "      <td>4fd418c8-80fb-4447-b016-791e76e341f7</td>\n",
       "      <td>Heal Any Disease | Physical Mental Spiritual I...</td>\n",
       "      <td>\"https://goodvibesassetsprod.blob.core.windows...</td>\n",
       "      <td>5400.031995</td>\n",
       "      <td>Meditation</td>\n",
       "      <td>GV0241</td>\n",
       "      <td>premium</td>\n",
       "      <td>trial</td>\n",
       "      <td>heal-any-disease-or-physical-mental-spiritual-...</td>\n",
       "    </tr>\n",
       "    <tr>\n",
       "      <th>1</th>\n",
       "      <td>21fdc932-46c5-4c8c-8941-9ef8c9e25732</td>\n",
       "      <td>Golden Energy Vibration | Manifest Miracles Bi...</td>\n",
       "      <td>\"https://goodvibesassetsprod.blob.core.windows...</td>\n",
       "      <td>1847.719002</td>\n",
       "      <td>Manifestation</td>\n",
       "      <td>GV0301</td>\n",
       "      <td>free</td>\n",
       "      <td>trial</td>\n",
       "      <td>golden-energy-vibration-or-manifest-miracles-b...</td>\n",
       "    </tr>\n",
       "  </tbody>\n",
       "</table>\n",
       "</div>"
      ],
      "text/plain": [
       "                           gv_tracks_id  \\\n",
       "0  4fd418c8-80fb-4447-b016-791e76e341f7   \n",
       "1  21fdc932-46c5-4c8c-8941-9ef8c9e25732   \n",
       "\n",
       "                                               title  \\\n",
       "0  Heal Any Disease | Physical Mental Spiritual I...   \n",
       "1  Golden Energy Vibration | Manifest Miracles Bi...   \n",
       "\n",
       "                                        storage_keys     duration  \\\n",
       "0  \"https://goodvibesassetsprod.blob.core.windows...  5400.031995   \n",
       "1  \"https://goodvibesassetsprod.blob.core.windows...  1847.719002   \n",
       "\n",
       "   category_name track_code track_type subscription_type  \\\n",
       "0     Meditation     GV0241    premium             trial   \n",
       "1  Manifestation    GV0301        free             trial   \n",
       "\n",
       "                                                slug  \n",
       "0  heal-any-disease-or-physical-mental-spiritual-...  \n",
       "1  golden-energy-vibration-or-manifest-miracles-b...  "
      ]
     },
     "execution_count": 188,
     "metadata": {},
     "output_type": "execute_result"
    }
   ],
   "source": [
    "gv.head(2)"
   ]
  },
  {
   "cell_type": "code",
   "execution_count": null,
   "id": "753b4f91",
   "metadata": {},
   "outputs": [],
   "source": []
  },
  {
   "cell_type": "code",
   "execution_count": 189,
   "id": "06cdf30e",
   "metadata": {},
   "outputs": [],
   "source": [
    "gv['tags'] =  gv['category_name'] + gv['track_type'] + gv['subscription_type'] +gv['slug']"
   ]
  },
  {
   "cell_type": "code",
   "execution_count": 190,
   "id": "8ee7aae8",
   "metadata": {},
   "outputs": [
    {
     "data": {
      "text/html": [
       "<div>\n",
       "<style scoped>\n",
       "    .dataframe tbody tr th:only-of-type {\n",
       "        vertical-align: middle;\n",
       "    }\n",
       "\n",
       "    .dataframe tbody tr th {\n",
       "        vertical-align: top;\n",
       "    }\n",
       "\n",
       "    .dataframe thead th {\n",
       "        text-align: right;\n",
       "    }\n",
       "</style>\n",
       "<table border=\"1\" class=\"dataframe\">\n",
       "  <thead>\n",
       "    <tr style=\"text-align: right;\">\n",
       "      <th></th>\n",
       "      <th>gv_tracks_id</th>\n",
       "      <th>title</th>\n",
       "      <th>storage_keys</th>\n",
       "      <th>duration</th>\n",
       "      <th>category_name</th>\n",
       "      <th>track_code</th>\n",
       "      <th>track_type</th>\n",
       "      <th>subscription_type</th>\n",
       "      <th>slug</th>\n",
       "      <th>tags</th>\n",
       "    </tr>\n",
       "  </thead>\n",
       "  <tbody>\n",
       "    <tr>\n",
       "      <th>0</th>\n",
       "      <td>4fd418c8-80fb-4447-b016-791e76e341f7</td>\n",
       "      <td>Heal Any Disease | Physical Mental Spiritual I...</td>\n",
       "      <td>\"https://goodvibesassetsprod.blob.core.windows...</td>\n",
       "      <td>5400.031995</td>\n",
       "      <td>Meditation</td>\n",
       "      <td>GV0241</td>\n",
       "      <td>premium</td>\n",
       "      <td>trial</td>\n",
       "      <td>heal-any-disease-or-physical-mental-spiritual-...</td>\n",
       "      <td>Meditationpremiumtrialheal-any-disease-or-phys...</td>\n",
       "    </tr>\n",
       "    <tr>\n",
       "      <th>1</th>\n",
       "      <td>21fdc932-46c5-4c8c-8941-9ef8c9e25732</td>\n",
       "      <td>Golden Energy Vibration | Manifest Miracles Bi...</td>\n",
       "      <td>\"https://goodvibesassetsprod.blob.core.windows...</td>\n",
       "      <td>1847.719002</td>\n",
       "      <td>Manifestation</td>\n",
       "      <td>GV0301</td>\n",
       "      <td>free</td>\n",
       "      <td>trial</td>\n",
       "      <td>golden-energy-vibration-or-manifest-miracles-b...</td>\n",
       "      <td>Manifestationfreetrialgolden-energy-vibration-...</td>\n",
       "    </tr>\n",
       "  </tbody>\n",
       "</table>\n",
       "</div>"
      ],
      "text/plain": [
       "                           gv_tracks_id  \\\n",
       "0  4fd418c8-80fb-4447-b016-791e76e341f7   \n",
       "1  21fdc932-46c5-4c8c-8941-9ef8c9e25732   \n",
       "\n",
       "                                               title  \\\n",
       "0  Heal Any Disease | Physical Mental Spiritual I...   \n",
       "1  Golden Energy Vibration | Manifest Miracles Bi...   \n",
       "\n",
       "                                        storage_keys     duration  \\\n",
       "0  \"https://goodvibesassetsprod.blob.core.windows...  5400.031995   \n",
       "1  \"https://goodvibesassetsprod.blob.core.windows...  1847.719002   \n",
       "\n",
       "   category_name track_code track_type subscription_type  \\\n",
       "0     Meditation     GV0241    premium             trial   \n",
       "1  Manifestation    GV0301        free             trial   \n",
       "\n",
       "                                                slug  \\\n",
       "0  heal-any-disease-or-physical-mental-spiritual-...   \n",
       "1  golden-energy-vibration-or-manifest-miracles-b...   \n",
       "\n",
       "                                                tags  \n",
       "0  Meditationpremiumtrialheal-any-disease-or-phys...  \n",
       "1  Manifestationfreetrialgolden-energy-vibration-...  "
      ]
     },
     "execution_count": 190,
     "metadata": {},
     "output_type": "execute_result"
    }
   ],
   "source": [
    "gv.head(2)"
   ]
  },
  {
   "cell_type": "code",
   "execution_count": 191,
   "id": "242fc408",
   "metadata": {},
   "outputs": [
    {
     "data": {
      "text/plain": [
       "'Meditationpremiumtrialheal-any-disease-or-physical-mental-spiritual-illness-binaural-beats-or-9-solfeggio-frequencies'"
      ]
     },
     "execution_count": 191,
     "metadata": {},
     "output_type": "execute_result"
    }
   ],
   "source": [
    "gv.iloc[0]['tags']"
   ]
  },
  {
   "cell_type": "code",
   "execution_count": 193,
   "id": "ea9bda9c",
   "metadata": {},
   "outputs": [],
   "source": [
    "# droping those extra columns\n",
    "new_df = gv[['gv_tracks_id','title','tags']]"
   ]
  },
  {
   "cell_type": "code",
   "execution_count": 194,
   "id": "d126a728",
   "metadata": {},
   "outputs": [
    {
     "data": {
      "text/html": [
       "<div>\n",
       "<style scoped>\n",
       "    .dataframe tbody tr th:only-of-type {\n",
       "        vertical-align: middle;\n",
       "    }\n",
       "\n",
       "    .dataframe tbody tr th {\n",
       "        vertical-align: top;\n",
       "    }\n",
       "\n",
       "    .dataframe thead th {\n",
       "        text-align: right;\n",
       "    }\n",
       "</style>\n",
       "<table border=\"1\" class=\"dataframe\">\n",
       "  <thead>\n",
       "    <tr style=\"text-align: right;\">\n",
       "      <th></th>\n",
       "      <th>gv_tracks_id</th>\n",
       "      <th>title</th>\n",
       "      <th>tags</th>\n",
       "    </tr>\n",
       "  </thead>\n",
       "  <tbody>\n",
       "    <tr>\n",
       "      <th>0</th>\n",
       "      <td>4fd418c8-80fb-4447-b016-791e76e341f7</td>\n",
       "      <td>Heal Any Disease | Physical Mental Spiritual I...</td>\n",
       "      <td>Meditationpremiumtrialheal-any-disease-or-phys...</td>\n",
       "    </tr>\n",
       "    <tr>\n",
       "      <th>1</th>\n",
       "      <td>21fdc932-46c5-4c8c-8941-9ef8c9e25732</td>\n",
       "      <td>Golden Energy Vibration | Manifest Miracles Bi...</td>\n",
       "      <td>Manifestationfreetrialgolden-energy-vibration-...</td>\n",
       "    </tr>\n",
       "  </tbody>\n",
       "</table>\n",
       "</div>"
      ],
      "text/plain": [
       "                           gv_tracks_id  \\\n",
       "0  4fd418c8-80fb-4447-b016-791e76e341f7   \n",
       "1  21fdc932-46c5-4c8c-8941-9ef8c9e25732   \n",
       "\n",
       "                                               title  \\\n",
       "0  Heal Any Disease | Physical Mental Spiritual I...   \n",
       "1  Golden Energy Vibration | Manifest Miracles Bi...   \n",
       "\n",
       "                                                tags  \n",
       "0  Meditationpremiumtrialheal-any-disease-or-phys...  \n",
       "1  Manifestationfreetrialgolden-energy-vibration-...  "
      ]
     },
     "execution_count": 194,
     "metadata": {},
     "output_type": "execute_result"
    }
   ],
   "source": [
    "new_df.head(2)"
   ]
  },
  {
   "cell_type": "code",
   "execution_count": 195,
   "id": "f004db76",
   "metadata": {},
   "outputs": [
    {
     "data": {
      "text/plain": [
       "'Meditationpremiumtrialheal-any-disease-or-physical-mental-spiritual-illness-binaural-beats-or-9-solfeggio-frequencies'"
      ]
     },
     "execution_count": 195,
     "metadata": {},
     "output_type": "execute_result"
    }
   ],
   "source": [
    "new_df.iloc[0]['tags']"
   ]
  },
  {
   "cell_type": "code",
   "execution_count": 196,
   "id": "b46a74e2",
   "metadata": {},
   "outputs": [
    {
     "data": {
      "text/html": [
       "<div>\n",
       "<style scoped>\n",
       "    .dataframe tbody tr th:only-of-type {\n",
       "        vertical-align: middle;\n",
       "    }\n",
       "\n",
       "    .dataframe tbody tr th {\n",
       "        vertical-align: top;\n",
       "    }\n",
       "\n",
       "    .dataframe thead th {\n",
       "        text-align: right;\n",
       "    }\n",
       "</style>\n",
       "<table border=\"1\" class=\"dataframe\">\n",
       "  <thead>\n",
       "    <tr style=\"text-align: right;\">\n",
       "      <th></th>\n",
       "      <th>gv_tracks_id</th>\n",
       "      <th>title</th>\n",
       "      <th>tags</th>\n",
       "    </tr>\n",
       "  </thead>\n",
       "  <tbody>\n",
       "    <tr>\n",
       "      <th>0</th>\n",
       "      <td>4fd418c8-80fb-4447-b016-791e76e341f7</td>\n",
       "      <td>Heal Any Disease | Physical Mental Spiritual I...</td>\n",
       "      <td>Meditationpremiumtrialheal-any-disease-or-phys...</td>\n",
       "    </tr>\n",
       "    <tr>\n",
       "      <th>1</th>\n",
       "      <td>21fdc932-46c5-4c8c-8941-9ef8c9e25732</td>\n",
       "      <td>Golden Energy Vibration | Manifest Miracles Bi...</td>\n",
       "      <td>Manifestationfreetrialgolden-energy-vibration-...</td>\n",
       "    </tr>\n",
       "    <tr>\n",
       "      <th>2</th>\n",
       "      <td>cd4841eb-5e05-43c9-bf0d-5cbb0f61f118</td>\n",
       "      <td>Awaken the Genius within You ➤ Super Intellige...</td>\n",
       "      <td>Productivityfreetrialawaken-the-genius-within-...</td>\n",
       "    </tr>\n",
       "    <tr>\n",
       "      <th>3</th>\n",
       "      <td>3f06f06c-ce32-413d-9f25-c8b023c4a3fc</td>\n",
       "      <td>The Sound of Nature with Birds and Water | Med...</td>\n",
       "      <td>Relaxationpremiumtrialthe-sound-of-nature-with...</td>\n",
       "    </tr>\n",
       "    <tr>\n",
       "      <th>4</th>\n",
       "      <td>803aab0c-fbfb-49ca-8138-a8aabe83cbdc</td>\n",
       "      <td>Clean the Aura and Space | Remove All Negative...</td>\n",
       "      <td>Meditationfreetrialclean-the-aura-and-space-or...</td>\n",
       "    </tr>\n",
       "  </tbody>\n",
       "</table>\n",
       "</div>"
      ],
      "text/plain": [
       "                           gv_tracks_id  \\\n",
       "0  4fd418c8-80fb-4447-b016-791e76e341f7   \n",
       "1  21fdc932-46c5-4c8c-8941-9ef8c9e25732   \n",
       "2  cd4841eb-5e05-43c9-bf0d-5cbb0f61f118   \n",
       "3  3f06f06c-ce32-413d-9f25-c8b023c4a3fc   \n",
       "4  803aab0c-fbfb-49ca-8138-a8aabe83cbdc   \n",
       "\n",
       "                                               title  \\\n",
       "0  Heal Any Disease | Physical Mental Spiritual I...   \n",
       "1  Golden Energy Vibration | Manifest Miracles Bi...   \n",
       "2  Awaken the Genius within You ➤ Super Intellige...   \n",
       "3  The Sound of Nature with Birds and Water | Med...   \n",
       "4  Clean the Aura and Space | Remove All Negative...   \n",
       "\n",
       "                                                tags  \n",
       "0  Meditationpremiumtrialheal-any-disease-or-phys...  \n",
       "1  Manifestationfreetrialgolden-energy-vibration-...  \n",
       "2  Productivityfreetrialawaken-the-genius-within-...  \n",
       "3  Relaxationpremiumtrialthe-sound-of-nature-with...  \n",
       "4  Meditationfreetrialclean-the-aura-and-space-or...  "
      ]
     },
     "execution_count": 196,
     "metadata": {},
     "output_type": "execute_result"
    }
   ],
   "source": [
    "new_df.head()"
   ]
  },
  {
   "cell_type": "code",
   "execution_count": 197,
   "id": "231de342",
   "metadata": {},
   "outputs": [
    {
     "data": {
      "text/plain": [
       "'Meditationfreetrialclean-the-aura-and-space-or-remove-all-negative-energy-or-emotional-and-physical-healing'"
      ]
     },
     "execution_count": 197,
     "metadata": {},
     "output_type": "execute_result"
    }
   ],
   "source": [
    "new_df.iloc[4]['tags']"
   ]
  },
  {
   "cell_type": "code",
   "execution_count": 198,
   "id": "816d2391",
   "metadata": {},
   "outputs": [
    {
     "name": "stderr",
     "output_type": "stream",
     "text": [
      "C:\\Users\\acer\\AppData\\Local\\Temp\\ipykernel_9796\\1076245226.py:2: SettingWithCopyWarning: \n",
      "A value is trying to be set on a copy of a slice from a DataFrame.\n",
      "Try using .loc[row_indexer,col_indexer] = value instead\n",
      "\n",
      "See the caveats in the documentation: https://pandas.pydata.org/pandas-docs/stable/user_guide/indexing.html#returning-a-view-versus-a-copy\n",
      "  new_df['tags'] = new_df['tags'].apply(lambda x:x.lower())\n"
     ]
    },
    {
     "data": {
      "text/html": [
       "<div>\n",
       "<style scoped>\n",
       "    .dataframe tbody tr th:only-of-type {\n",
       "        vertical-align: middle;\n",
       "    }\n",
       "\n",
       "    .dataframe tbody tr th {\n",
       "        vertical-align: top;\n",
       "    }\n",
       "\n",
       "    .dataframe thead th {\n",
       "        text-align: right;\n",
       "    }\n",
       "</style>\n",
       "<table border=\"1\" class=\"dataframe\">\n",
       "  <thead>\n",
       "    <tr style=\"text-align: right;\">\n",
       "      <th></th>\n",
       "      <th>gv_tracks_id</th>\n",
       "      <th>title</th>\n",
       "      <th>tags</th>\n",
       "    </tr>\n",
       "  </thead>\n",
       "  <tbody>\n",
       "    <tr>\n",
       "      <th>0</th>\n",
       "      <td>4fd418c8-80fb-4447-b016-791e76e341f7</td>\n",
       "      <td>Heal Any Disease | Physical Mental Spiritual I...</td>\n",
       "      <td>meditationpremiumtrialheal-any-disease-or-phys...</td>\n",
       "    </tr>\n",
       "    <tr>\n",
       "      <th>1</th>\n",
       "      <td>21fdc932-46c5-4c8c-8941-9ef8c9e25732</td>\n",
       "      <td>Golden Energy Vibration | Manifest Miracles Bi...</td>\n",
       "      <td>manifestationfreetrialgolden-energy-vibration-...</td>\n",
       "    </tr>\n",
       "  </tbody>\n",
       "</table>\n",
       "</div>"
      ],
      "text/plain": [
       "                           gv_tracks_id  \\\n",
       "0  4fd418c8-80fb-4447-b016-791e76e341f7   \n",
       "1  21fdc932-46c5-4c8c-8941-9ef8c9e25732   \n",
       "\n",
       "                                               title  \\\n",
       "0  Heal Any Disease | Physical Mental Spiritual I...   \n",
       "1  Golden Energy Vibration | Manifest Miracles Bi...   \n",
       "\n",
       "                                                tags  \n",
       "0  meditationpremiumtrialheal-any-disease-or-phys...  \n",
       "1  manifestationfreetrialgolden-energy-vibration-...  "
      ]
     },
     "execution_count": 198,
     "metadata": {},
     "output_type": "execute_result"
    }
   ],
   "source": [
    "# Converting to lower case\n",
    "new_df['tags'] = new_df['tags'].apply(lambda x:x.lower())\n",
    "new_df.head(2)"
   ]
  },
  {
   "cell_type": "code",
   "execution_count": 199,
   "id": "834c6c59",
   "metadata": {},
   "outputs": [
    {
     "data": {
      "text/plain": [
       "'meditationfreetrialclean-the-aura-and-space-or-remove-all-negative-energy-or-emotional-and-physical-healing'"
      ]
     },
     "execution_count": 199,
     "metadata": {},
     "output_type": "execute_result"
    }
   ],
   "source": [
    "new_df.iloc[4]['tags']"
   ]
  },
  {
   "cell_type": "code",
   "execution_count": 200,
   "id": "39c7d688",
   "metadata": {},
   "outputs": [
    {
     "data": {
      "text/html": [
       "<div>\n",
       "<style scoped>\n",
       "    .dataframe tbody tr th:only-of-type {\n",
       "        vertical-align: middle;\n",
       "    }\n",
       "\n",
       "    .dataframe tbody tr th {\n",
       "        vertical-align: top;\n",
       "    }\n",
       "\n",
       "    .dataframe thead th {\n",
       "        text-align: right;\n",
       "    }\n",
       "</style>\n",
       "<table border=\"1\" class=\"dataframe\">\n",
       "  <thead>\n",
       "    <tr style=\"text-align: right;\">\n",
       "      <th></th>\n",
       "      <th>gv_tracks_id</th>\n",
       "      <th>title</th>\n",
       "      <th>tags</th>\n",
       "    </tr>\n",
       "  </thead>\n",
       "  <tbody>\n",
       "    <tr>\n",
       "      <th>0</th>\n",
       "      <td>4fd418c8-80fb-4447-b016-791e76e341f7</td>\n",
       "      <td>Heal Any Disease | Physical Mental Spiritual I...</td>\n",
       "      <td>meditationpremiumtrialheal-any-disease-or-phys...</td>\n",
       "    </tr>\n",
       "    <tr>\n",
       "      <th>1</th>\n",
       "      <td>21fdc932-46c5-4c8c-8941-9ef8c9e25732</td>\n",
       "      <td>Golden Energy Vibration | Manifest Miracles Bi...</td>\n",
       "      <td>manifestationfreetrialgolden-energy-vibration-...</td>\n",
       "    </tr>\n",
       "  </tbody>\n",
       "</table>\n",
       "</div>"
      ],
      "text/plain": [
       "                           gv_tracks_id  \\\n",
       "0  4fd418c8-80fb-4447-b016-791e76e341f7   \n",
       "1  21fdc932-46c5-4c8c-8941-9ef8c9e25732   \n",
       "\n",
       "                                               title  \\\n",
       "0  Heal Any Disease | Physical Mental Spiritual I...   \n",
       "1  Golden Energy Vibration | Manifest Miracles Bi...   \n",
       "\n",
       "                                                tags  \n",
       "0  meditationpremiumtrialheal-any-disease-or-phys...  \n",
       "1  manifestationfreetrialgolden-energy-vibration-...  "
      ]
     },
     "execution_count": 200,
     "metadata": {},
     "output_type": "execute_result"
    }
   ],
   "source": [
    "new_df.head(2)"
   ]
  },
  {
   "cell_type": "code",
   "execution_count": 201,
   "id": "abca7ddf",
   "metadata": {},
   "outputs": [
    {
     "data": {
      "text/plain": [
       "(2188, 3)"
      ]
     },
     "execution_count": 201,
     "metadata": {},
     "output_type": "execute_result"
    }
   ],
   "source": [
    "new_df.shape"
   ]
  },
  {
   "cell_type": "code",
   "execution_count": 202,
   "id": "ff503024",
   "metadata": {},
   "outputs": [],
   "source": [
    "import nltk\n",
    "from nltk.stem import PorterStemmer"
   ]
  },
  {
   "cell_type": "code",
   "execution_count": 203,
   "id": "2dff50ee",
   "metadata": {},
   "outputs": [],
   "source": [
    "ps = PorterStemmer()"
   ]
  },
  {
   "cell_type": "code",
   "execution_count": 204,
   "id": "4f9d42d9",
   "metadata": {},
   "outputs": [],
   "source": [
    "def stems(text):\n",
    "    T = []\n",
    "    \n",
    "    for i in text.split():\n",
    "        T.append(ps.stem(i))\n",
    "    \n",
    "    return \" \".join(T)"
   ]
  },
  {
   "cell_type": "code",
   "execution_count": 205,
   "id": "627a0a7e",
   "metadata": {},
   "outputs": [
    {
     "name": "stderr",
     "output_type": "stream",
     "text": [
      "C:\\Users\\acer\\AppData\\Local\\Temp\\ipykernel_9796\\3973021881.py:1: SettingWithCopyWarning: \n",
      "A value is trying to be set on a copy of a slice from a DataFrame.\n",
      "Try using .loc[row_indexer,col_indexer] = value instead\n",
      "\n",
      "See the caveats in the documentation: https://pandas.pydata.org/pandas-docs/stable/user_guide/indexing.html#returning-a-view-versus-a-copy\n",
      "  new_df['tags'] = new_df['tags'].apply(stems)\n"
     ]
    }
   ],
   "source": [
    "new_df['tags'] = new_df['tags'].apply(stems)"
   ]
  },
  {
   "cell_type": "code",
   "execution_count": 206,
   "id": "cb7c6130",
   "metadata": {},
   "outputs": [
    {
     "data": {
      "text/plain": [
       "'meditationpremiumtrialheal-any-disease-or-physical-mental-spiritual-illness-binaural-beats-or-9-solfeggio-frequ'"
      ]
     },
     "execution_count": 206,
     "metadata": {},
     "output_type": "execute_result"
    }
   ],
   "source": [
    "new_df.iloc[0]['tags']"
   ]
  },
  {
   "cell_type": "code",
   "execution_count": 207,
   "id": "cecc0ea8",
   "metadata": {},
   "outputs": [],
   "source": [
    "from sklearn.feature_extraction.text import CountVectorizer\n",
    "cv = CountVectorizer(max_features=5000,stop_words='english')"
   ]
  },
  {
   "cell_type": "code",
   "execution_count": 208,
   "id": "aef8023c",
   "metadata": {},
   "outputs": [],
   "source": [
    "vector = cv.fit_transform(new_df['tags']).toarray()"
   ]
  },
  {
   "cell_type": "code",
   "execution_count": 209,
   "id": "3ca0632e",
   "metadata": {},
   "outputs": [
    {
     "data": {
      "text/plain": [
       "array([[0, 0, 0, ..., 0, 0, 0],\n",
       "       [0, 0, 0, ..., 0, 0, 0],\n",
       "       [0, 0, 0, ..., 0, 0, 0],\n",
       "       ...,\n",
       "       [0, 0, 0, ..., 0, 0, 0],\n",
       "       [0, 0, 0, ..., 0, 0, 0],\n",
       "       [0, 0, 0, ..., 0, 0, 0]], dtype=int64)"
      ]
     },
     "execution_count": 209,
     "metadata": {},
     "output_type": "execute_result"
    }
   ],
   "source": [
    "vector"
   ]
  },
  {
   "cell_type": "code",
   "execution_count": 210,
   "id": "9d73fdbf",
   "metadata": {},
   "outputs": [
    {
     "data": {
      "text/plain": [
       "(2188, 3158)"
      ]
     },
     "execution_count": 210,
     "metadata": {},
     "output_type": "execute_result"
    }
   ],
   "source": [
    "vector.shape"
   ]
  },
  {
   "cell_type": "code",
   "execution_count": 211,
   "id": "a4283b8a",
   "metadata": {},
   "outputs": [],
   "source": [
    "#len(cv.get_feature_names())"
   ]
  },
  {
   "cell_type": "code",
   "execution_count": 212,
   "id": "13d950a8",
   "metadata": {},
   "outputs": [],
   "source": [
    "from sklearn.metrics.pairwise import cosine_similarity"
   ]
  },
  {
   "cell_type": "code",
   "execution_count": 213,
   "id": "67ea67d5",
   "metadata": {},
   "outputs": [],
   "source": [
    "similarity = cosine_similarity(vector)"
   ]
  },
  {
   "cell_type": "code",
   "execution_count": 214,
   "id": "0632b4ff",
   "metadata": {},
   "outputs": [
    {
     "data": {
      "text/plain": [
       "array([[1.        , 0.19069252, 0.        , ..., 0.        , 0.09534626,\n",
       "        0.09534626],\n",
       "       [0.19069252, 1.        , 0.        , ..., 0.09534626, 0.09090909,\n",
       "        0.09090909],\n",
       "       [0.        , 0.        , 1.        , ..., 0.        , 0.        ,\n",
       "        0.        ],\n",
       "       ...,\n",
       "       [0.        , 0.09534626, 0.        , ..., 1.        , 0.        ,\n",
       "        0.        ],\n",
       "       [0.09534626, 0.09090909, 0.        , ..., 0.        , 1.        ,\n",
       "        0.09090909],\n",
       "       [0.09534626, 0.09090909, 0.        , ..., 0.        , 0.09090909,\n",
       "        1.        ]])"
      ]
     },
     "execution_count": 214,
     "metadata": {},
     "output_type": "execute_result"
    }
   ],
   "source": [
    "similarity"
   ]
  },
  {
   "cell_type": "code",
   "execution_count": 215,
   "id": "8f6518c7",
   "metadata": {},
   "outputs": [
    {
     "data": {
      "text/plain": [
       "(2188, 2188)"
      ]
     },
     "execution_count": 215,
     "metadata": {},
     "output_type": "execute_result"
    }
   ],
   "source": [
    "similarity.shape"
   ]
  },
  {
   "cell_type": "code",
   "execution_count": 216,
   "id": "3e153f61",
   "metadata": {},
   "outputs": [
    {
     "data": {
      "text/plain": [
       "1455"
      ]
     },
     "execution_count": 216,
     "metadata": {},
     "output_type": "execute_result"
    }
   ],
   "source": [
    "new_df[new_df['title'] == 'Asking the Universe | Manifest Anything You Desire | Law of Attraction'].index[0]"
   ]
  },
  {
   "cell_type": "code",
   "execution_count": 217,
   "id": "6746f006",
   "metadata": {},
   "outputs": [],
   "source": [
    "def recommend(gv):\n",
    "    index = new_df[new_df['title'] == gv].index[0]\n",
    "    distances = sorted(list(enumerate(similarity[index])),reverse=True,key = lambda x: x[1])\n",
    "    for i in distances[1:6]:\n",
    "        print(new_df.iloc[i[0]].title)"
   ]
  },
  {
   "cell_type": "code",
   "execution_count": 218,
   "id": "8dfe8211",
   "metadata": {},
   "outputs": [
    {
     "name": "stdout",
     "output_type": "stream",
     "text": [
      "Ask the Universe & Attract What you want ➤ Manifest Anything, Law of Attraction ➤ Binaural Beats\n",
      "Frequency of Universe | Manifest Anything you desire | 432 Hz Healing Music\n",
      "Law Of Attraction | Manifest Anything You Desire, Attract Prosperity - Binaural Beats\n",
      "Wealth And Abundance |  Manifest Your Desire, Attract Prosperity - Ask The Universe\n",
      "High Vibration with the Universe 》Manifest Miracles, Attract Positive Energies \n"
     ]
    }
   ],
   "source": [
    "recommend(\"Asking the Universe | Manifest Anything You Desire | Law of Attraction\")"
   ]
  },
  {
   "cell_type": "code",
   "execution_count": 220,
   "id": "91d01570",
   "metadata": {},
   "outputs": [],
   "source": [
    "import pickle\n",
    "\n",
    "pickle.dump(new_df, open('artifacts/gv_tracks_list.pkl','wb'))\n",
    "pickle.dump(similarity, open('artifacts/similarity.pkl','wb'))"
   ]
  },
  {
   "cell_type": "code",
   "execution_count": null,
   "id": "0464afc2",
   "metadata": {},
   "outputs": [],
   "source": []
  }
 ],
 "metadata": {
  "kernelspec": {
   "display_name": "Python 3 (ipykernel)",
   "language": "python",
   "name": "python3"
  },
  "language_info": {
   "codemirror_mode": {
    "name": "ipython",
    "version": 3
   },
   "file_extension": ".py",
   "mimetype": "text/x-python",
   "name": "python",
   "nbconvert_exporter": "python",
   "pygments_lexer": "ipython3",
   "version": "3.11.5"
  }
 },
 "nbformat": 4,
 "nbformat_minor": 5
}
